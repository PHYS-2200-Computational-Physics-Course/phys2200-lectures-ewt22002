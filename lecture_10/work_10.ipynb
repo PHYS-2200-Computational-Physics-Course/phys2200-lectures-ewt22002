{
 "cells": [
  {
   "cell_type": "code",
   "execution_count": 1,
   "id": "2e5c69f5-8a97-453f-be66-89fb5f6dcfd6",
   "metadata": {},
   "outputs": [
    {
     "data": {
      "text/plain": [
       "mybasel"
      ]
     },
     "execution_count": 1,
     "metadata": {},
     "output_type": "execute_result"
    }
   ],
   "source": [
    "\n",
    "\"\"\"\n",
    "    s = mybasel(N)\n",
    "\n",
    "Calculate finite basel sum\n",
    "\"\"\"\n",
    "function mybasel(N)\n",
    "    s = 0.0\n",
    "    for n = 1:N\n",
    "        s += 1/n^2\n",
    "    end\n",
    "    return s\n",
    "end"
   ]
  },
  {
   "cell_type": "code",
   "execution_count": 4,
   "id": "a239a16a-b29c-4ffb-aaf3-cc24572e73d5",
   "metadata": {},
   "outputs": [
    {
     "data": {
      "text/plain": [
       "0.001"
      ]
     },
     "execution_count": 4,
     "metadata": {},
     "output_type": "execute_result"
    }
   ],
   "source": [
    "round(abs(mybasel(1000) - pi^2/6), sigdigits=1)"
   ]
  },
  {
   "cell_type": "code",
   "execution_count": 5,
   "id": "f5aaf1ac-9ac5-4be0-bf88-4ef5ddc02b71",
   "metadata": {},
   "outputs": [
    {
     "data": {
      "text/plain": [
       "myrichardson (generic function with 1 method)"
      ]
     },
     "execution_count": 5,
     "metadata": {},
     "output_type": "execute_result"
    }
   ],
   "source": [
    "\n",
    "function myrichardson(N)\n",
    "    s1 = mybasel(N)\n",
    "    s2 = mybasel(2N)\n",
    "    return 2*s2 - s1\n",
    "end"
   ]
  },
  {
   "cell_type": "code",
   "execution_count": 10,
   "id": "17434b0b-e744-4ad3-9037-fea80a1d70bc",
   "metadata": {},
   "outputs": [
    {
     "data": {
      "text/plain": [
       "2.0e-7"
      ]
     },
     "execution_count": 10,
     "metadata": {},
     "output_type": "execute_result"
    }
   ],
   "source": [
    "\n",
    "round(abs(myrichardson(1000) - pi^2/6), sigdigits=1)"
   ]
  },
  {
   "cell_type": "code",
   "execution_count": 11,
   "id": "8942a78f-c91d-4b30-9713-7739ea04d628",
   "metadata": {},
   "outputs": [
    {
     "data": {
      "text/plain": [
       "2.0e-7"
      ]
     },
     "execution_count": 11,
     "metadata": {},
     "output_type": "execute_result"
    }
   ],
   "source": [
    "\n",
    "round(abs(mybasel(5000000) - pi^2/6), sigdigits=1)"
   ]
  },
  {
   "cell_type": "code",
   "execution_count": 1,
   "id": "1bd5db4f-4430-4c95-9380-e754e4496555",
   "metadata": {},
   "outputs": [
    {
     "name": "stderr",
     "output_type": "stream",
     "text": [
      "\u001b[32m\u001b[1m    Updating\u001b[22m\u001b[39m registry at `~/.julia/registries/General.toml`\n",
      "\u001b[32m\u001b[1m   Resolving\u001b[22m\u001b[39m package versions...\n",
      "\u001b[32m\u001b[1m   Installed\u001b[22m\u001b[39m OrderedCollections ─ v1.8.1\n",
      "\u001b[32m\u001b[1m   Installed\u001b[22m\u001b[39m QuadGK ───────────── v2.11.2\n",
      "\u001b[32m\u001b[1m   Installed\u001b[22m\u001b[39m DataStructures ───── v0.19.1\n",
      "\u001b[32m\u001b[1m    Updating\u001b[22m\u001b[39m `/workspaces/phys2200-lectures-ewt22002/Project.toml`\n",
      "  \u001b[90m[1fd47b50] \u001b[39m\u001b[92m+ QuadGK v2.11.2\u001b[39m\n",
      "\u001b[32m\u001b[1m    Updating\u001b[22m\u001b[39m `/workspaces/phys2200-lectures-ewt22002/Manifest.toml`\n",
      "  \u001b[90m[864edb3b] \u001b[39m\u001b[92m+ DataStructures v0.19.1\u001b[39m\n",
      "  \u001b[90m[bac558e1] \u001b[39m\u001b[92m+ OrderedCollections v1.8.1\u001b[39m\n",
      "  \u001b[90m[1fd47b50] \u001b[39m\u001b[92m+ QuadGK v2.11.2\u001b[39m\n",
      "\u001b[92m\u001b[1mPrecompiling\u001b[22m\u001b[39m project...\n",
      "   2246.6 ms\u001b[32m  ✓ \u001b[39m\u001b[90mOrderedCollections\u001b[39m\n",
      "   1834.4 ms\u001b[32m  ✓ \u001b[39m\u001b[90mDataStructures\u001b[39m\n",
      "    894.6 ms\u001b[32m  ✓ \u001b[39mQuadGK\n",
      "  3 dependencies successfully precompiled in 9 seconds. 57 already precompiled.\n"
     ]
    }
   ],
   "source": [
    "] add QuadGK"
   ]
  },
  {
   "cell_type": "code",
   "execution_count": 2,
   "id": "12dbafaf-1b3d-42a7-aa0a-469dbf52b958",
   "metadata": {},
   "outputs": [],
   "source": [
    "\n",
    "using QuadGK"
   ]
  },
  {
   "cell_type": "code",
   "execution_count": 3,
   "id": "f3899d6c-556a-4e6a-8953-ef66e1623900",
   "metadata": {},
   "outputs": [
    {
     "data": {
      "text/plain": [
       "fun1 (generic function with 1 method)"
      ]
     },
     "execution_count": 3,
     "metadata": {},
     "output_type": "execute_result"
    }
   ],
   "source": [
    "\n",
    "fun1(x) = 1/sqrt(x)"
   ]
  },
  {
   "cell_type": "code",
   "execution_count": 7,
   "id": "fa25e7c7-2356-46bf-bd3b-e0f1c4653948",
   "metadata": {},
   "outputs": [
    {
     "data": {
      "text/plain": [
       "2.0"
      ]
     },
     "execution_count": 7,
     "metadata": {},
     "output_type": "execute_result"
    }
   ],
   "source": [
    "\n",
    "round(quadgk(fun1, 0, 1)[1], sigdigits=5)"
   ]
  },
  {
   "cell_type": "code",
   "execution_count": 9,
   "id": "c52debd6-044a-47c1-a0ad-07f42138b695",
   "metadata": {},
   "outputs": [
    {
     "data": {
      "text/plain": [
       "fun2 (generic function with 1 method)"
      ]
     },
     "execution_count": 9,
     "metadata": {},
     "output_type": "execute_result"
    }
   ],
   "source": [
    "\n",
    "fun2(x) = exp(-x) * log(x)"
   ]
  },
  {
   "cell_type": "code",
   "execution_count": 12,
   "id": "bc5f316a-ed6e-4e7f-a5e6-ffd6bf05e52e",
   "metadata": {},
   "outputs": [
    {
     "data": {
      "text/plain": [
       "(-0.5772156640944036, 4.619449696675028e-9)"
      ]
     },
     "execution_count": 12,
     "metadata": {},
     "output_type": "execute_result"
    }
   ],
   "source": [
    "\n",
    "quadgk(fun2, 0, Inf)"
   ]
  },
  {
   "cell_type": "code",
   "execution_count": null,
   "id": "47195ab3-ab63-4bfe-b8c2-d4156797afde",
   "metadata": {},
   "outputs": [],
   "source": []
  }
 ],
 "metadata": {
  "kernelspec": {
   "display_name": "Julia 1.11.6",
   "language": "julia",
   "name": "julia-1.11"
  },
  "language_info": {
   "file_extension": ".jl",
   "mimetype": "application/julia",
   "name": "julia",
   "version": "1.11.6"
  }
 },
 "nbformat": 4,
 "nbformat_minor": 5
}
