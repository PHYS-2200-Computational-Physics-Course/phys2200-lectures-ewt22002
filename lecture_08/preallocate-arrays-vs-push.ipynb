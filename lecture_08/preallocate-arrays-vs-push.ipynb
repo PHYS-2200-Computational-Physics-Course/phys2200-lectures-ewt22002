{
 "cells": [
  {
   "cell_type": "markdown",
   "id": "16b134de-8c9f-4c21-8ef9-8d4121fb7c67",
   "metadata": {},
   "source": [
    "\n",
    "### Preallocating arrays vs push in julia"
   ]
  },
  {
   "cell_type": "code",
   "execution_count": 1,
   "id": "10827d90-8f2b-4064-b6c7-c8553c851b37",
   "metadata": {},
   "outputs": [
    {
     "name": "stderr",
     "output_type": "stream",
     "text": [
      "\u001b[32m\u001b[1m    Updating\u001b[22m\u001b[39m registry at `~/.julia/registries/General.toml`\n",
      "\u001b[32m\u001b[1m   Resolving\u001b[22m\u001b[39m package versions...\n",
      "\u001b[32m\u001b[1m   Installed\u001b[22m\u001b[39m Compat ───────── v4.18.0\n",
      "\u001b[32m\u001b[1m   Installed\u001b[22m\u001b[39m BenchmarkTools ─ v1.6.0\n",
      "\u001b[32m\u001b[1m    Updating\u001b[22m\u001b[39m `/workspaces/phys2200-lectures-ewt22002/Project.toml`\n",
      "  \u001b[90m[6e4b80f9] \u001b[39m\u001b[92m+ BenchmarkTools v1.6.0\u001b[39m\n",
      "\u001b[32m\u001b[1m    Updating\u001b[22m\u001b[39m `/workspaces/phys2200-lectures-ewt22002/Manifest.toml`\n",
      "  \u001b[90m[6e4b80f9] \u001b[39m\u001b[92m+ BenchmarkTools v1.6.0\u001b[39m\n",
      "  \u001b[90m[34da2185] \u001b[39m\u001b[92m+ Compat v4.18.0\u001b[39m\n",
      "  \u001b[90m[9abbd945] \u001b[39m\u001b[92m+ Profile v1.11.0\u001b[39m\n",
      "\u001b[92m\u001b[1mPrecompiling\u001b[22m\u001b[39m project...\n",
      "   2170.9 ms\u001b[32m  ✓ \u001b[39m\u001b[90mCompat\u001b[39m\n",
      "    471.6 ms\u001b[32m  ✓ \u001b[39m\u001b[90mCompat → CompatLinearAlgebraExt\u001b[39m\n",
      "   1275.3 ms\u001b[32m  ✓ \u001b[39mBenchmarkTools\n",
      "  3 dependencies successfully precompiled in 8 seconds. 54 already precompiled.\n"
     ]
    }
   ],
   "source": [
    "] add BenchmarkTools"
   ]
  },
  {
   "cell_type": "code",
   "execution_count": 2,
   "id": "a71fc89d-fece-4758-9c26-d2be649d928b",
   "metadata": {},
   "outputs": [],
   "source": [
    "\n",
    "using BenchmarkTools"
   ]
  },
  {
   "cell_type": "markdown",
   "id": "612d79ec-6ec7-4eea-b8bd-dc8136e59ddb",
   "metadata": {},
   "source": [
    "\n",
    "Allocate array of a fixed length and store the elements as they are calculated"
   ]
  },
  {
   "cell_type": "code",
   "execution_count": 3,
   "id": "c94681aa-b8f8-4c6c-8095-3972c566458e",
   "metadata": {},
   "outputs": [
    {
     "data": {
      "text/plain": [
       "init1 (generic function with 1 method)"
      ]
     },
     "execution_count": 3,
     "metadata": {},
     "output_type": "execute_result"
    }
   ],
   "source": [
    "\n",
    "function init1(n)\n",
    "    x = zeros(n)\n",
    "    for i = 1:n\n",
    "        x[i] = i/2\n",
    "    end\n",
    "    return x\n",
    "end"
   ]
  },
  {
   "cell_type": "markdown",
   "id": "08e0dd34-fbfc-4afe-89c4-b43a2867c294",
   "metadata": {},
   "source": [
    "\n",
    "Create a zero-length array and expand it as new element need to be stored"
   ]
  },
  {
   "cell_type": "code",
   "execution_count": 4,
   "id": "e772ceb6-6b16-4c05-ab3d-064d1e47ee71",
   "metadata": {},
   "outputs": [
    {
     "data": {
      "text/plain": [
       "init2 (generic function with 1 method)"
      ]
     },
     "execution_count": 4,
     "metadata": {},
     "output_type": "execute_result"
    }
   ],
   "source": [
    "\n",
    "function init2(n)\n",
    "    x = []\n",
    "    for i = 1:n\n",
    "        push!(x, i/2)\n",
    "    end\n",
    "    return x\n",
    "end"
   ]
  },
  {
   "cell_type": "code",
   "execution_count": 5,
   "id": "f8b8d84e-3ba8-40a3-a8be-3494d79bbc83",
   "metadata": {},
   "outputs": [],
   "source": [
    "\n",
    "x1 = init1(100)\n",
    "x2 = init2(100);"
   ]
  },
  {
   "cell_type": "code",
   "execution_count": 6,
   "id": "7ce6efe4-25e0-4be2-80fe-5e6ba1bdccbd",
   "metadata": {},
   "outputs": [
    {
     "data": {
      "text/plain": [
       "true"
      ]
     },
     "execution_count": 6,
     "metadata": {},
     "output_type": "execute_result"
    }
   ],
   "source": [
    "\n",
    "\n",
    "x1 == x2"
   ]
  },
  {
   "cell_type": "code",
   "execution_count": 7,
   "id": "88c606c3-9f0d-4bcc-931c-51bfa132e96f",
   "metadata": {},
   "outputs": [
    {
     "name": "stdout",
     "output_type": "stream",
     "text": [
      "  83.475 ns (2 allocations: 928 bytes)\n"
     ]
    }
   ],
   "source": [
    "\n",
    "@btime init1(100);"
   ]
  },
  {
   "cell_type": "code",
   "execution_count": null,
   "id": "1838e095-128c-468a-b643-59ede475d8ba",
   "metadata": {},
   "outputs": [],
   "source": [
    "\n",
    "@btime init2(100);"
   ]
  },
  {
   "cell_type": "code",
   "execution_count": null,
   "id": "4feff9b3-6c4a-4141-8ffd-e6b81434f0fe",
   "metadata": {},
   "outputs": [],
   "source": []
  }
 ],
 "metadata": {
  "kernelspec": {
   "display_name": "Julia 1.11.6",
   "language": "julia",
   "name": "julia-1.11"
  },
  "language_info": {
   "file_extension": ".jl",
   "mimetype": "application/julia",
   "name": "julia",
   "version": "1.11.6"
  }
 },
 "nbformat": 4,
 "nbformat_minor": 5
}
